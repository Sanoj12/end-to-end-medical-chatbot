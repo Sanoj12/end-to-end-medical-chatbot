{
 "cells": [
  {
   "cell_type": "code",
   "execution_count": 1,
   "id": "e76870bf",
   "metadata": {},
   "outputs": [
    {
     "data": {
      "text/plain": [
       "True"
      ]
     },
     "execution_count": 1,
     "metadata": {},
     "output_type": "execute_result"
    }
   ],
   "source": [
    "from langchain.agents import create_react_agent,AgentExecutor\n",
    "from langchain.prompts import PromptTemplate ##custom prompt\n",
    "#from langgraph.checkpoint.memory import MemorySaver\n",
    "\n",
    "\n",
    "\n",
    "from langchain_groq import ChatGroq\n",
    "\n",
    "from dotenv import load_dotenv\n",
    "import os\n",
    "\n",
    "load_dotenv()\n"
   ]
  },
  {
   "cell_type": "code",
   "execution_count": null,
   "id": "9af6ac59",
   "metadata": {},
   "outputs": [],
   "source": [
    "from langchain_core.tracers import LangChainTracer"
   ]
  },
  {
   "cell_type": "code",
   "execution_count": 17,
   "id": "c22472e9",
   "metadata": {},
   "outputs": [],
   "source": [
    "os.environ[\"LANGSMITH_PROJECT\"]=\"my-medical-agent\""
   ]
  },
  {
   "cell_type": "code",
   "execution_count": 3,
   "id": "93cc283f",
   "metadata": {},
   "outputs": [],
   "source": [
    "os.environ[\"GROQ_API_KEY\"]=os.getenv(\"GROQ_API_KEY\")\n",
    "os.environ[\"TAVILY_API_KEY\"]=os.getenv(\"TAVILY_API_KEY\")\n",
    "os.environ[\"LANGSMITH_API_KEY\"] = os.getenv(\"LANGSMITH_aPI_KEY\")\n",
    "os.environ[\"LANGSMITH_TRACING\"] = \"true\"\n"
   ]
  },
  {
   "cell_type": "code",
   "execution_count": 4,
   "id": "f96a0c21",
   "metadata": {},
   "outputs": [
    {
     "name": "stderr",
     "output_type": "stream",
     "text": [
      "c:\\Users\\sanoj\\OneDrive\\Desktop\\medical\\end_to_end_medical_chatbot1\\mychatbot\\Lib\\site-packages\\tqdm\\auto.py:21: TqdmWarning: IProgress not found. Please update jupyter and ipywidgets. See https://ipywidgets.readthedocs.io/en/stable/user_install.html\n",
      "  from .autonotebook import tqdm as notebook_tqdm\n",
      "c:\\users\\sanoj\\onedrive\\desktop\\medical\\end_to_end_medical_chatbot1\\src\\web_search_tools.py:9: LangChainDeprecationWarning: The class `TavilySearchResults` was deprecated in LangChain 0.3.25 and will be removed in 1.0. An updated version of the class exists in the :class:`~langchain-tavily package and should be used instead. To use it run `pip install -U :class:`~langchain-tavily` and import as `from :class:`~langchain_tavily import TavilySearch``.\n",
      "  tavily_tool = TavilySearchResults(max_results=2)\n"
     ]
    }
   ],
   "source": [
    "\n",
    "from src.translator_tool import translate_to_english,translate_back,detect_language\n",
    "\n",
    "from src.pinecone_tool import search_doc\n",
    "\n",
    "from src.web_search_tools import web_search"
   ]
  },
  {
   "cell_type": "code",
   "execution_count": 5,
   "id": "69945fd0",
   "metadata": {},
   "outputs": [],
   "source": [
    "groq_llm = ChatGroq(\n",
    "    model_name=\"llama3-70b-8192\",\n",
    "    temperature=0\n",
    ")\n"
   ]
  },
  {
   "cell_type": "code",
   "execution_count": 8,
   "id": "a91eaddd",
   "metadata": {},
   "outputs": [],
   "source": [
    "\n",
    "custom_templates = \"\"\"\n",
    "You are a helpful medical assistant...\n",
    "\n",
    "Only return the final answer. show your thought process or reasoning steps.\n",
    "\n",
    "User's question:\n",
    "{input}\n",
    "\n",
    "\n",
    "\n",
    "Available tools:\n",
    "{tools}\n",
    "\n",
    "Choose from: [{tool_names}]\n",
    "\n",
    "\n",
    "{agent_scratchpad}\n",
    "\"\"\"\n",
    "\n",
    "\n",
    "\n",
    "\n",
    "prompt = PromptTemplate(\n",
    "    input_variables=[\"input\",\"tools\",\"tool_names\",\"agent_scratchpad\"],\n",
    "    template=custom_templates\n",
    ")"
   ]
  },
  {
   "cell_type": "code",
   "execution_count": 9,
   "id": "f2dab2c0",
   "metadata": {},
   "outputs": [],
   "source": [
    "\n",
    "tools=[\n",
    "    detect_language,\n",
    "    translate_to_english,\n",
    "    translate_back,\n",
    "    search_doc,\n",
    "    web_search\n",
    "]"
   ]
  },
  {
   "cell_type": "code",
   "execution_count": 14,
   "id": "0f07bbfe",
   "metadata": {},
   "outputs": [],
   "source": [
    "tracer = LangChainTracer(project_name=\"my-medical-agent\")"
   ]
  },
  {
   "cell_type": "code",
   "execution_count": 18,
   "id": "9efc1efe",
   "metadata": {},
   "outputs": [],
   "source": [
    "\n",
    "agent = create_react_agent(llm=groq_llm ,tools=tools, prompt=prompt)\n",
    "agent_executor = AgentExecutor(agent=agent,tools=tools, verbose=True,  callbacks=[tracer] , handle_parsing_errors=True )\n"
   ]
  },
  {
   "cell_type": "code",
   "execution_count": 19,
   "id": "19b1185d",
   "metadata": {},
   "outputs": [
    {
     "name": "stdout",
     "output_type": "stream",
     "text": [
      "\n",
      "\n",
      "\u001b[1m> Entering new AgentExecutor chain...\u001b[0m\n",
      "\u001b[32;1m\u001b[1;3mweb_search\u001b[0mInvalid Format: Missing 'Action:' after 'Thought:'\u001b[32;1m\u001b[1;3mAction: I will use web_search to find the answer to the user's question \"what is debugging\".\u001b[0mInvalid Format: Missing 'Action Input:' after 'Action:'\u001b[32;1m\u001b[1;3mThought: I will use web_search to find the answer to the user's question \"what is debugging\".\n",
      "Action: web_search\n",
      "Action Input: \"what is debugging\"\u001b[0m\u001b[33;1m\u001b[1;3m[{'title': 'What Is Debugging? - IBM', 'url': 'https://www.ibm.com/think/topics/debugging', 'content': '# What is debugging?\\n\\n## Authors\\n\\nIBM Staff Writer\\n\\n## What is debugging?\\n\\nDebugging is the process of finding, isolating and resolving coding errors known as bugs in software programs. Debugging helps uncover the cause of coding errors, prevent software function issues and improve the overall performance of software. [...] Testing and debugging are complimentary processes in the development of new code. While their outcomes differ, both testing and debugging are used to produce error-free code.', 'score': 0.9203972}, {'title': 'What is debugging? - TechTarget', 'url': 'https://www.techtarget.com/searchsoftwarequality/definition/debugging', 'content': 'What is debugging? Debugging, in computer programming and engineering, is a multistep process that involves identifying a problem, isolating the source of the problem and then either correcting the problem or determining a way to work around it. The final step of debugging is to test the correction or workaround and make sure it works. In software development, the debugging process begins when', 'score': 0.90869105}]\u001b[0m\u001b[32;1m\u001b[1;3mDebugging is the process of finding, isolating and resolving coding errors known as bugs in software programs.\u001b[0mInvalid Format: Missing 'Action:' after 'Thought:'\u001b[32;1m\u001b[1;3mAction: Debugging is the process of finding, isolating and resolving coding errors known as bugs in software programs.\u001b[0mInvalid Format: Missing 'Action Input:' after 'Action:'\u001b[32;1m\u001b[1;3mAction: \n",
      "Action Input: \n",
      "Debugging is the process of finding, isolating and resolving coding errors known as bugs in software programs.\u001b[0m is not a valid tool, try one of [detect_language, translate_to_english, translate_back, search_doc, web_search].\u001b[32;1m\u001b[1;3mDebugging is the process of finding, isolating and resolving coding errors known as bugs in software programs.\u001b[0mInvalid Format: Missing 'Action:' after 'Thought:'\u001b[32;1m\u001b[1;3mAction: \n",
      "Action Input: \n",
      "Debugging is the process of finding, isolating and resolving coding errors known as bugs in software programs.\u001b[0m is not a valid tool, try one of [detect_language, translate_to_english, translate_back, search_doc, web_search].\u001b[32;1m\u001b[1;3mDebugging is the process of finding, isolating and resolving coding errors known as bugs in software programs.\u001b[0mInvalid Format: Missing 'Action:' after 'Thought:'\u001b[32;1m\u001b[1;3mDebugging is the process of finding, isolating and resolving coding errors known as bugs in software programs.\u001b[0mInvalid Format: Missing 'Action:' after 'Thought:'\u001b[32;1m\u001b[1;3mDebugging is the process of finding, isolating and resolving coding errors known as bugs in software programs.\u001b[0mInvalid Format: Missing 'Action:' after 'Thought:'\u001b[32;1m\u001b[1;3mDebugging is the process of finding, isolating and resolving coding errors known as bugs in software programs.\u001b[0mInvalid Format: Missing 'Action:' after 'Thought:'\u001b[32;1m\u001b[1;3mDebugging is the process of finding, isolating and resolving coding errors known as bugs in software programs.\u001b[0mInvalid Format: Missing 'Action:' after 'Thought:'\u001b[32;1m\u001b[1;3mDebugging is the process of finding, isolating and resolving coding errors known as bugs in software programs.\u001b[0mInvalid Format: Missing 'Action:' after 'Thought:'\u001b[32;1m\u001b[1;3mDebugging is the process of finding, isolating and resolving coding errors known as bugs in software programs.\u001b[0mInvalid Format: Missing 'Action:' after 'Thought:'\u001b[32;1m\u001b[1;3m\u001b[0m\n",
      "\n",
      "\u001b[1m> Finished chain.\u001b[0m\n"
     ]
    }
   ],
   "source": [
    "response = agent_executor.invoke({\"input\": \"please answer the question: what is debugging\"})\n"
   ]
  }
 ],
 "metadata": {
  "kernelspec": {
   "display_name": "Python 3",
   "language": "python",
   "name": "python3"
  },
  "language_info": {
   "codemirror_mode": {
    "name": "ipython",
    "version": 3
   },
   "file_extension": ".py",
   "mimetype": "text/x-python",
   "name": "python",
   "nbconvert_exporter": "python",
   "pygments_lexer": "ipython3",
   "version": "3.12.11"
  }
 },
 "nbformat": 4,
 "nbformat_minor": 5
}
